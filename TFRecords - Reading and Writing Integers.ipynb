{
 "cells": [
  {
   "cell_type": "markdown",
   "metadata": {},
   "source": [
    "# TFRecords - Reading and Writing Integers\n",
    "### A Simple Example\n"
   ]
  },
  {
   "cell_type": "markdown",
   "metadata": {},
   "source": [
    "<br>\n",
    "<br>\n",
    "<br>\n",
    "<br>\n"
   ]
  },
  {
   "cell_type": "markdown",
   "metadata": {},
   "source": [
    "### Imports and Config"
   ]
  },
  {
   "cell_type": "code",
   "execution_count": 1,
   "metadata": {},
   "outputs": [],
   "source": [
    "import numpy as np\n",
    "import tensorflow as tf\n",
    "\n",
    "n_examples=10\n",
    "n_features=10"
   ]
  },
  {
   "cell_type": "markdown",
   "metadata": {},
   "source": [
    "<br>\n",
    "<br>\n",
    "<br>\n"
   ]
  },
  {
   "cell_type": "markdown",
   "metadata": {},
   "source": [
    "\n",
    "### Create Example Data\n",
    "\n",
    "the features are random integers, the labels are the array indexes"
   ]
  },
  {
   "cell_type": "code",
   "execution_count": 2,
   "metadata": {},
   "outputs": [
    {
     "data": {
      "text/plain": [
       "array([[ 0, 65, 98, 49, 99, 93, 19, 78, 23, 41],\n",
       "       [19, 26, 14, 85, 55, 43, 54, 24, 52, 14],\n",
       "       [16, 79, 47, 52, 51, 64,  2,  7, 48, 41],\n",
       "       [13, 77, 30, 85, 16, 92,  8, 98,  9, 63],\n",
       "       [96, 95, 91, 75, 96, 35, 67, 80, 68, 80],\n",
       "       [ 1, 18, 82,  0, 83, 41, 76, 55, 78, 89],\n",
       "       [46, 73,  6, 62, 96, 20, 82, 69, 85,  3],\n",
       "       [33,  0, 25, 76, 13, 14, 60, 88, 47, 24],\n",
       "       [84, 37,  8,  3, 60, 68, 75, 20, 24, 28],\n",
       "       [18, 75, 11, 44, 53, 11, 25, 16, 56, 62]])"
      ]
     },
     "execution_count": 2,
     "metadata": {},
     "output_type": "execute_result"
    }
   ],
   "source": [
    "examples = np.random.randint(0, 100, size=(n_examples, n_features))\n",
    "examples"
   ]
  },
  {
   "cell_type": "code",
   "execution_count": 3,
   "metadata": {},
   "outputs": [
    {
     "name": "stdout",
     "output_type": "stream",
     "text": [
      "label=0, feature=[ 0 65 98 49 99 93 19 78 23 41]\n",
      "label=1, feature=[19 26 14 85 55 43 54 24 52 14]\n",
      "label=2, feature=[16 79 47 52 51 64  2  7 48 41]\n",
      "label=3, feature=[13 77 30 85 16 92  8 98  9 63]\n",
      "label=4, feature=[96 95 91 75 96 35 67 80 68 80]\n",
      "label=5, feature=[ 1 18 82  0 83 41 76 55 78 89]\n",
      "label=6, feature=[46 73  6 62 96 20 82 69 85  3]\n",
      "label=7, feature=[33  0 25 76 13 14 60 88 47 24]\n",
      "label=8, feature=[84 37  8  3 60 68 75 20 24 28]\n",
      "label=9, feature=[18 75 11 44 53 11 25 16 56 62]\n"
     ]
    }
   ],
   "source": [
    "for idx in range(examples.shape[0]):\n",
    "    print('label={}, feature={}'.format(idx, examples[idx]))"
   ]
  },
  {
   "cell_type": "markdown",
   "metadata": {},
   "source": [
    "<br>\n",
    "<br>\n",
    "<br>\n",
    "<br>\n",
    "<br>\n",
    "<br>\n"
   ]
  },
  {
   "cell_type": "markdown",
   "metadata": {},
   "source": [
    "### Writing a TFRecord File"
   ]
  },
  {
   "cell_type": "code",
   "execution_count": 4,
   "metadata": {},
   "outputs": [],
   "source": [
    "with tf.io.TFRecordWriter('integer-examples.tfrecord') as tfrecord:\n",
    "    for idx in range(examples.shape[0]):\n",
    "        label = [idx]\n",
    "        feature = examples[idx]\n",
    "        features = {\n",
    "            'label': tf.train.Feature(int64_list=tf.train.Int64List(value=label)),\n",
    "            'feature': tf.train.Feature(int64_list=tf.train.Int64List(value=feature))\n",
    "        }\n",
    "        example = tf.train.Example(features=tf.train.Features(feature=features))\n",
    "        tfrecord.write(example.SerializeToString())\n"
   ]
  },
  {
   "cell_type": "markdown",
   "metadata": {},
   "source": [
    "<br>\n",
    "<br>\n",
    "<br>\n",
    "<br>\n"
   ]
  },
  {
   "cell_type": "markdown",
   "metadata": {},
   "source": [
    "### Read TFRecords"
   ]
  },
  {
   "cell_type": "code",
   "execution_count": 5,
   "metadata": {},
   "outputs": [],
   "source": [
    "def map_fn(serialized_example):\n",
    "    feature = {\n",
    "        'label': tf.io.FixedLenFeature([1], tf.int64),\n",
    "        'feature': tf.io.FixedLenFeature([n_features], tf.int64)\n",
    "    }\n",
    "    example = tf.io.parse_single_example(serialized_example, feature)\n",
    "    return example['feature'], example['label']\n",
    "\n",
    "dataset = tf.data.TFRecordDataset('integer-examples.tfrecord')\n",
    "dataset = dataset.map(map_fn)\n"
   ]
  },
  {
   "cell_type": "code",
   "execution_count": 6,
   "metadata": {},
   "outputs": [
    {
     "name": "stdout",
     "output_type": "stream",
     "text": [
      "label=[0], feature=[ 0 65 98 49 99 93 19 78 23 41]\n",
      "label=[1], feature=[19 26 14 85 55 43 54 24 52 14]\n",
      "label=[2], feature=[16 79 47 52 51 64  2  7 48 41]\n",
      "label=[3], feature=[13 77 30 85 16 92  8 98  9 63]\n",
      "label=[4], feature=[96 95 91 75 96 35 67 80 68 80]\n",
      "label=[5], feature=[ 1 18 82  0 83 41 76 55 78 89]\n",
      "label=[6], feature=[46 73  6 62 96 20 82 69 85  3]\n",
      "label=[7], feature=[33  0 25 76 13 14 60 88 47 24]\n",
      "label=[8], feature=[84 37  8  3 60 68 75 20 24 28]\n",
      "label=[9], feature=[18 75 11 44 53 11 25 16 56 62]\n"
     ]
    }
   ],
   "source": [
    "for feature, label in dataset.take(10):\n",
    "    print('label={}, feature={}'.format(label, feature))"
   ]
  }
 ],
 "metadata": {
  "kernelspec": {
   "display_name": "Python 3",
   "language": "python",
   "name": "python3"
  },
  "language_info": {
   "codemirror_mode": {
    "name": "ipython",
    "version": 3
   },
   "file_extension": ".py",
   "mimetype": "text/x-python",
   "name": "python",
   "nbconvert_exporter": "python",
   "pygments_lexer": "ipython3",
   "version": "3.6.9"
  }
 },
 "nbformat": 4,
 "nbformat_minor": 4
}
